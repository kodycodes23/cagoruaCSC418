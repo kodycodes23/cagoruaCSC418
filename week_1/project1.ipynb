{
 "cells": [
  {
   "cell_type": "code",
   "execution_count": 3,
   "id": "721f0d4b",
   "metadata": {},
   "outputs": [],
   "source": [
    "import os\n",
    "import cv2\n",
    "\n",
    "# Dictionary containing UMC members' first names and surnames\n",
    "umc_members = {\n",
    "    \"Enase\": \"Okonedo\",\n",
    "    \"Chris\": \"Ogbechie\",\n",
    "    \"Sola\": \"Oni\",\n",
    "    \"Darlington\": \"Agholor\",\n",
    "    \"Nneka\": \"Okekearu\",\n",
    "    \"Peter\": \"Bamokole\"\n",
    "}\n",
    "\n",
    "# Path to the directory containing images\n",
    "image_dir = r\"C:\\Users\\Documents\\CSC418\\\\week_1\\img\"\n",
    "\n",
    "def calculate_password_length(surname):\n",
    "    return sum(1 for char in surname if char.isalpha())\n",
    "\n",
    "def display_image(username):\n",
    "    surname = umc_members.get(username)\n",
    "    if surname:\n",
    "        password = calculate_password_length(surname)\n",
    "        entered_password = int(input(\"Enter your password (sum of alphabets in your surname): \"))\n",
    "        if entered_password == password:\n",
    "            image_extensions = ['jpg', 'jpeg', 'png']\n",
    "            image_found = False\n",
    "            for ext in image_extensions:\n",
    "                image_path = os.path.join(image_dir, f\"{username}.{ext}\")\n",
    "                if os.path.exists(image_path):\n",
    "                    image = cv2.imread(image_path)\n",
    "                    cv2.imshow(\"UMC Member Image\", image)\n",
    "                    cv2.waitKey(0)\n",
    "                    cv2.destroyAllWindows()\n",
    "                    image_found = True\n",
    "                    break\n",
    "            if not image_found:\n",
    "                print(\"Image not found.\")\n",
    "        else:\n",
    "            print(\"Incorrect password.\")\n",
    "    else:\n",
    "        print(\"Username not found.\")\n",
    "\n",
    "def main():\n",
    "    username = input(\"Enter your username (first name): \")\n",
    "    display_image(username)\n",
    "\n",
    "if __name__ == \"_main_\":\n",
    "    main()"
   ]
  },
  {
   "cell_type": "code",
   "execution_count": null,
   "id": "a992acff",
   "metadata": {},
   "outputs": [],
   "source": []
  }
 ],
 "metadata": {
  "kernelspec": {
   "display_name": "Python 3 (ipykernel)",
   "language": "python",
   "name": "python3"
  },
  "language_info": {
   "codemirror_mode": {
    "name": "ipython",
    "version": 3
   },
   "file_extension": ".py",
   "mimetype": "text/x-python",
   "name": "python",
   "nbconvert_exporter": "python",
   "pygments_lexer": "ipython3",
   "version": "3.10.9"
  }
 },
 "nbformat": 4,
 "nbformat_minor": 5
}
