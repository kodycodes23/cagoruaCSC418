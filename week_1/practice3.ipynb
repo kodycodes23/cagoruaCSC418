{
 "cells": [
  {
   "cell_type": "code",
   "execution_count": 1,
   "id": "f721f808",
   "metadata": {},
   "outputs": [],
   "source": [
    "#Python program to explain cv2.imwrite() method\n",
    "\n",
    "#importing cv2\n",
    "import cv2\n",
    "\n",
    "import os\n",
    "\n",
    "#image path\n",
    "image_path = r'C:\\Users\\kodya\\Documents\\CSC418\\week_1\\img\\image.jpg'\n",
    "\n",
    "#Image directory\n",
    "directory = r'C:\\Users\\kodya\\Documents\\CSC418\\week_1\\img'\n",
    "\n",
    "#Using cv2.imread() methos to read the image\n",
    "img = cv2.imread(image_path, 0)\n",
    "\n",
    "#change the current directory to specified directory\n",
    "os.chdir(directory)\n"
   ]
  },
  {
   "cell_type": "code",
   "execution_count": null,
   "id": "a5d989db",
   "metadata": {},
   "outputs": [],
   "source": []
  }
 ],
 "metadata": {
  "kernelspec": {
   "display_name": "Python 3 (ipykernel)",
   "language": "python",
   "name": "python3"
  },
  "language_info": {
   "codemirror_mode": {
    "name": "ipython",
    "version": 3
   },
   "file_extension": ".py",
   "mimetype": "text/x-python",
   "name": "python",
   "nbconvert_exporter": "python",
   "pygments_lexer": "ipython3",
   "version": "3.10.9"
  }
 },
 "nbformat": 4,
 "nbformat_minor": 5
}
