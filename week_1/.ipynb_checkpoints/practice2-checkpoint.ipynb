{
 "cells": [
  {
   "cell_type": "code",
   "execution_count": null,
   "id": "f299b34c",
   "metadata": {},
   "outputs": [],
   "source": [
    "import cv2\n",
    "\n",
    "#path\n",
    "path = 'img/image.jpg'\n",
    "\n",
    "#reading the image using imread() function\n",
    "img = cv2.imread(path)\n",
    "\n",
    "##window name in which image is displayed\n",
    "window_name = 'abroad'\n",
    "\n",
    "#Display image\n",
    "cv2.imshow(window_name, img)\n",
    "\n",
    "#Hold the window\n",
    "cv2.waitKey(0)\n",
    "\n",
    "# Remove/delete created GUI window from screen and memory\n",
    "cv2.destroyAllWindows()"
   ]
  }
 ],
 "metadata": {
  "kernelspec": {
   "display_name": "Python 3 (ipykernel)",
   "language": "python",
   "name": "python3"
  },
  "language_info": {
   "codemirror_mode": {
    "name": "ipython",
    "version": 3
   },
   "file_extension": ".py",
   "mimetype": "text/x-python",
   "name": "python",
   "nbconvert_exporter": "python",
   "pygments_lexer": "ipython3",
   "version": "3.10.9"
  }
 },
 "nbformat": 4,
 "nbformat_minor": 5
}
