{
 "cells": [
  {
   "cell_type": "code",
   "execution_count": 2,
   "id": "721f0d4b",
   "metadata": {},
   "outputs": [
    {
     "ename": "NameError",
     "evalue": "name '_name_' is not defined",
     "output_type": "error",
     "traceback": [
      "\u001b[1;31m---------------------------------------------------------------------------\u001b[0m",
      "\u001b[1;31mNameError\u001b[0m                                 Traceback (most recent call last)",
      "Cell \u001b[1;32mIn[2], line 48\u001b[0m\n\u001b[0;32m     45\u001b[0m     username \u001b[38;5;241m=\u001b[39m \u001b[38;5;28minput\u001b[39m(\u001b[38;5;124m\"\u001b[39m\u001b[38;5;124mEnter your username (first name): \u001b[39m\u001b[38;5;124m\"\u001b[39m)\n\u001b[0;32m     46\u001b[0m     display_image(username)\n\u001b[1;32m---> 48\u001b[0m \u001b[38;5;28;01mif\u001b[39;00m \u001b[43m_name_\u001b[49m \u001b[38;5;241m==\u001b[39m \u001b[38;5;124m\"\u001b[39m\u001b[38;5;124m_main_\u001b[39m\u001b[38;5;124m\"\u001b[39m:\n\u001b[0;32m     49\u001b[0m     main()\n",
      "\u001b[1;31mNameError\u001b[0m: name '_name_' is not defined"
     ]
    }
   ],
   "source": [
    "import os\n",
    "import cv2\n",
    "\n",
    "# Dictionary containing UMC members' first names and surnames\n",
    "umc_members = {\n",
    "    \"Enase\": \"Okonedo\",\n",
    "    \"Chris\": \"Ogbechie\",\n",
    "    \"Sola\": \"Oni\",\n",
    "    \"Darlington\": \"Agholor\",\n",
    "    \"Nneka\": \"Okekearu\",\n",
    "    \"Peter\": \"Bamokole\"\n",
    "}\n",
    "\n",
    "# Path to the directory containing images\n",
    "image_dir = r\"C:\\Users\\Documents\\CSC418\\\\week_1\\img\"\n",
    "\n",
    "def calculate_password_length(surname):\n",
    "    return sum(1 for char in surname if char.isalpha())\n",
    "\n",
    "def display_image(username):\n",
    "    surname = umc_members.get(username)\n",
    "    if surname:\n",
    "        password = calculate_password_length(surname)\n",
    "        entered_password = int(input(\"Enter your password (sum of alphabets in your surname): \"))\n",
    "        if entered_password == password:\n",
    "            image_extensions = ['jpg', 'jpeg', 'png']\n",
    "            image_found = False\n",
    "            for ext in image_extensions:\n",
    "                image_path = os.path.join(image_dir, f\"{username}.{ext}\")\n",
    "                if os.path.exists(image_path):\n",
    "                    image = cv2.imread(image_path)\n",
    "                    cv2.imshow(\"UMC Member Image\", image)\n",
    "                    cv2.waitKey(0)\n",
    "                    cv2.destroyAllWindows()\n",
    "                    image_found = True\n",
    "                    break\n",
    "            if not image_found:\n",
    "                print(\"Image not found.\")\n",
    "        else:\n",
    "            print(\"Incorrect password.\")\n",
    "    else:\n",
    "        print(\"Username not found.\")\n",
    "\n",
    "def main():\n",
    "    username = input(\"Enter your username (first name): \")\n",
    "    display_image(username)\n",
    "\n",
    "if __name__ == \"_main_\":\n",
    "    main()"
   ]
  },
  {
   "cell_type": "code",
   "execution_count": null,
   "id": "4ce3a65c",
   "metadata": {},
   "outputs": [],
   "source": []
  }
 ],
 "metadata": {
  "kernelspec": {
   "display_name": "Python 3 (ipykernel)",
   "language": "python",
   "name": "python3"
  },
  "language_info": {
   "codemirror_mode": {
    "name": "ipython",
    "version": 3
   },
   "file_extension": ".py",
   "mimetype": "text/x-python",
   "name": "python",
   "nbconvert_exporter": "python",
   "pygments_lexer": "ipython3",
   "version": "3.10.9"
  }
 },
 "nbformat": 4,
 "nbformat_minor": 5
}
