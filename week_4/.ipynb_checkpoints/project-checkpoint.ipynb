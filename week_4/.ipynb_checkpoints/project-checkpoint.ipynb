{
 "cells": [
  {
   "cell_type": "code",
   "execution_count": null,
   "id": "94564b4f",
   "metadata": {},
   "outputs": [],
   "source": [
    "import cv2\n",
    "import matplotlib.pyplot as plt\n",
    "\n",
    "def edge_detection(image, method='canny'):\n",
    "    if method == 'canny':\n",
    "        edges = cv2.Canny(image, 100, 200)  # Adjust threshold values as needed\n",
    "    elif method == 'sobel':\n",
    "        gray = cv2.cvtColor(image, cv2.COLOR_BGR2GRAY)\n",
    "        edges = cv2.Sobel(gray, cv2.CV_64F, 1, 1, ksize=5)\n",
    "        edges = cv2.convertScaleAbs(edges)\n",
    "    elif method == 'laplacian':\n",
    "        gray = cv2.cvtColor(image, cv2.COLOR_BGR2GRAY)\n",
    "        edges = cv2.Laplacian(gray, cv2.CV_64F)\n",
    "        edges = cv2.convertScaleAbs(edges)\n",
    "    else:\n",
    "        raise ValueError(\"Invalid edge detection method. Choose from 'canny', 'sobel', or 'laplacian'.\")\n",
    "\n",
    "    return edges\n",
    "\n",
    "def display_edges(image_path, method='canny'):\n",
    "    image = cv2.imread(image_path)\n",
    "    edges = edge_detection(image, method)\n",
    "    \n",
    "    plt.figure(figsize=(12, 6))\n",
    "    plt.subplot(1, 2, 1)\n",
    "    plt.imshow(cv2.cvtColor(image, cv2.COLOR_BGR2RGB))\n",
    "    plt.title('Original Image')\n",
    "    plt.axis('off')\n",
    "    \n",
    "    plt.subplot(1, 2, 2)\n",
    "    plt.imshow(edges, cmap='gray')\n",
    "    plt.title('Edge Detection (' + method.capitalize() + ')')\n",
    "    plt.axis('off')\n",
    "    \n",
    "    plt.show()\n",
    "\n",
    "# Example usage:\n",
    "image_path = 'img/kody.jpeg'  # Provide the path to your image\n",
    "display_edges(image_path, method='canny')  # Change the method as needed\n"
   ]
  }
 ],
 "metadata": {
  "kernelspec": {
   "display_name": "Python 3 (ipykernel)",
   "language": "python",
   "name": "python3"
  },
  "language_info": {
   "codemirror_mode": {
    "name": "ipython",
    "version": 3
   },
   "file_extension": ".py",
   "mimetype": "text/x-python",
   "name": "python",
   "nbconvert_exporter": "python",
   "pygments_lexer": "ipython3",
   "version": "3.10.9"
  }
 },
 "nbformat": 4,
 "nbformat_minor": 5
}
