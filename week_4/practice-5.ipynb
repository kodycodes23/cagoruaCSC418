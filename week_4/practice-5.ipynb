{
 "cells": [
  {
   "cell_type": "code",
   "execution_count": null,
   "id": "b2e14420",
   "metadata": {},
   "outputs": [],
   "source": [
    "#Canny Edge Detection\n",
    "\n",
    "import cv2\n",
    "\n",
    "#Load the image \n",
    "image = cv2.imread('img/kody.jpeg', cv2.IMREAD_GRAYSCALE)\n",
    "\n",
    "#resize images \n",
    "image = cv2.resize(image, (400,400))\n",
    "\n",
    "#Perform Canny edge detection\n",
    "edges = cv2.Canny(image, 100, 200) #adjust the threshold values as needed\n",
    "\n",
    "#Display the original image and the detected edges\n",
    "cv2.imshow('Original', image)\n",
    "cv2.imshow('Edges', edges)\n",
    "\n",
    "#wait for a key press and close all windows \n",
    "cv2.waitKey(0)\n",
    "cv2.destroyAllWindows()\n",
    "\n"
   ]
  },
  {
   "cell_type": "code",
   "execution_count": null,
   "id": "82a75627",
   "metadata": {},
   "outputs": [],
   "source": []
  }
 ],
 "metadata": {
  "kernelspec": {
   "display_name": "Python 3 (ipykernel)",
   "language": "python",
   "name": "python3"
  },
  "language_info": {
   "codemirror_mode": {
    "name": "ipython",
    "version": 3
   },
   "file_extension": ".py",
   "mimetype": "text/x-python",
   "name": "python",
   "nbconvert_exporter": "python",
   "pygments_lexer": "ipython3",
   "version": "3.10.9"
  }
 },
 "nbformat": 4,
 "nbformat_minor": 5
}
