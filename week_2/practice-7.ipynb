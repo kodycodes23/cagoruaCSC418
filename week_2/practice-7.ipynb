{
 "cells": [
  {
   "cell_type": "code",
   "execution_count": null,
   "id": "1d9b14b6",
   "metadata": {},
   "outputs": [],
   "source": [
    "import cv2\n",
    "import matplotlib.pyplot as plt\n",
    "import numpy as np\n",
    "\n",
    "#LOad the image\n",
    "image = cv2.imread('img/sst-foyer.jpg')\n",
    "\n",
    "#Plot the original image\n",
    "plt.subplot(1, 2, 1)\n",
    "plt.title(\"Original\")\n",
    "plt.imshow(image)\n",
    "\n",
    "#Inverse the original image \n",
    "inverse_image = 255 - image\n",
    "\n",
    "#Save the image\n",
    "cv2.imwrite('img/inverse_image.jpg', inverse_image)\n",
    "\n",
    "#Plot the inverse image\n",
    "plt.subplot(1,2,2)\n",
    "plt.title(\"inverse color\")\n",
    "plt.imshow(inverse_image)\n",
    "plt.show()"
   ]
  }
 ],
 "metadata": {
  "kernelspec": {
   "display_name": "Python 3 (ipykernel)",
   "language": "python",
   "name": "python3"
  },
  "language_info": {
   "codemirror_mode": {
    "name": "ipython",
    "version": 3
   },
   "file_extension": ".py",
   "mimetype": "text/x-python",
   "name": "python",
   "nbconvert_exporter": "python",
   "pygments_lexer": "ipython3",
   "version": "3.10.9"
  }
 },
 "nbformat": 4,
 "nbformat_minor": 5
}
