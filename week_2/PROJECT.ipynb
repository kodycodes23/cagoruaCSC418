{
 "cells": [
  {
   "cell_type": "code",
   "execution_count": 1,
   "id": "b90b2ba3",
   "metadata": {},
   "outputs": [
    {
     "ename": "SyntaxError",
     "evalue": "invalid syntax (4275786212.py, line 15)",
     "output_type": "error",
     "traceback": [
      "\u001b[1;36m  Cell \u001b[1;32mIn[1], line 15\u001b[1;36m\u001b[0m\n\u001b[1;33m    techn = \"Visualizing Color Spaces\":\u001b[0m\n\u001b[1;37m                                      ^\u001b[0m\n\u001b[1;31mSyntaxError\u001b[0m\u001b[1;31m:\u001b[0m invalid syntax\n"
     ]
    },
    {
     "name": "stdout",
     "output_type": "stream",
     "text": [
      "The history saving thread hit an unexpected error (OperationalError('database or disk is full')).History will not be written to the database.\n"
     ]
    }
   ],
   "source": [
    "import os\n",
    "import cv2\n",
    "\n",
    "user_details= {\n",
    "    \"Chikaodi\": 10,\n",
    "    \"Eze\": 11,\n",
    "    \"Sope\": 12,\n",
    "    \"Anderson\": 13,\n",
    "    \"Lotanna\": 14,\n",
    "    \"Bruno\": 15\n",
    "}\n",
    "\n",
    "def image_enhance():\n",
    "    def Switch(techn):\n",
    "        techn = \"Visualizing Color Spaces\":\n",
    "            return \n",
    "        image = cv2.imread('img/color-space.jpg')\n",
    "\n",
    "        #The split method seperates colors spaces\n",
    "        B, G, R = cv2.split(image)\n",
    "\n",
    "        #corresponding channels are sperated \n",
    "        cv2.imshow(\"original\", image)\n",
    "        cv2.waitKey(0)\n",
    "\n",
    "        cv2.imshow(\"blue\", B)\n",
    "        cv2.waitKey(0)\n",
    "\n",
    "        cv2.imshow(\"green\", G)\n",
    "        cv2.waitKey(0)\n",
    "\n",
    "        cv2.imshow(\"red\", R)\n",
    "        cv2.waitKey(0)\n",
    "\n",
    "        cv2.destroyAllWindows()"
   ]
  },
  {
   "cell_type": "code",
   "execution_count": null,
   "id": "a3bfab35",
   "metadata": {},
   "outputs": [],
   "source": []
  }
 ],
 "metadata": {
  "kernelspec": {
   "display_name": "Python 3 (ipykernel)",
   "language": "python",
   "name": "python3"
  },
  "language_info": {
   "codemirror_mode": {
    "name": "ipython",
    "version": 3
   },
   "file_extension": ".py",
   "mimetype": "text/x-python",
   "name": "python",
   "nbconvert_exporter": "python",
   "pygments_lexer": "ipython3",
   "version": "3.10.9"
  }
 },
 "nbformat": 4,
 "nbformat_minor": 5
}
