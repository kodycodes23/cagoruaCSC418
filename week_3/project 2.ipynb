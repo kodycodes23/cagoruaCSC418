{
 "cells": [
  {
   "cell_type": "code",
   "execution_count": 5,
   "id": "eb85232a",
   "metadata": {},
   "outputs": [],
   "source": [
    "import tkinter as tk\n",
    "from tkinter import messagebox\n",
    "from PIL import Image, ImageTk\n",
    "\n",
    "# Function to perform user authentication\n",
    "def authenticate(username, password):\n",
    "    valid_username = \"admin\"\n",
    "    valid_password = \"password\"\n",
    "    \n",
    "    if username == valid_username and password == valid_password:\n",
    "        return True\n",
    "    else:\n",
    "        return False\n",
    "\n",
    "# Function to load and display an image\n",
    "def load_image(image_path):\n",
    "    image = Image.open(image_path)\n",
    "    image = image.resize((400, 400), Image.LANCZOS)  # Resize the image\n",
    "    photo = ImageTk.PhotoImage(image)\n",
    "    label = tk.Label(root, image=photo)\n",
    "    label.image = photo\n",
    "    label.pack()\n",
    "\n",
    "# Function to handle login button click\n",
    "def login():\n",
    "    username = username_entry.get()\n",
    "    password = password_entry.get()\n",
    "    \n",
    "    if authenticate(username, password):\n",
    "        messagebox.showinfo(\"Login Successful\", \"Welcome, \" + username + \"!\")\n",
    "        load_image(\"img/modern.jpg\")\n",
    "    else:\n",
    "        messagebox.showerror(\"Login Failed\", \"Invalid username or password\")\n",
    "\n",
    "# Create the main application window\n",
    "root = tk.Tk()\n",
    "root.title(\"YSMA Art Collection Viewer\")\n",
    "\n",
    "# Create and pack widgets\n",
    "tk.Label(root, text=\"Username:\").pack()\n",
    "username_entry = tk.Entry(root)\n",
    "username_entry.pack()\n",
    "\n",
    "tk.Label(root, text=\"Password:\").pack()\n",
    "password_entry = tk.Entry(root, show=\"*\")  # Mask password\n",
    "password_entry.pack()\n",
    "\n",
    "login_button = tk.Button(root, text=\"Login\", command=login)\n",
    "login_button.pack()\n",
    "\n",
    "exit_button = tk.Button(root, text=\"Exit\", command=root.destroy)\n",
    "exit_button.pack()\n",
    "\n",
    "# Run the main event loop\n",
    "root.mainloop()\n"
   ]
  },
  {
   "cell_type": "code",
   "execution_count": null,
   "id": "9da0c910",
   "metadata": {},
   "outputs": [],
   "source": []
  },
  {
   "cell_type": "code",
   "execution_count": null,
   "id": "2fde46ec",
   "metadata": {},
   "outputs": [],
   "source": []
  }
 ],
 "metadata": {
  "kernelspec": {
   "display_name": "Python 3 (ipykernel)",
   "language": "python",
   "name": "python3"
  },
  "language_info": {
   "codemirror_mode": {
    "name": "ipython",
    "version": 3
   },
   "file_extension": ".py",
   "mimetype": "text/x-python",
   "name": "python",
   "nbconvert_exporter": "python",
   "pygments_lexer": "ipython3",
   "version": "3.10.9"
  }
 },
 "nbformat": 4,
 "nbformat_minor": 5
}
